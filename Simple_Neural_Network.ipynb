{
  "nbformat": 4,
  "nbformat_minor": 0,
  "metadata": {
    "colab": {
      "name": "Simple-Neural-Network.ipynb",
      "provenance": [],
      "collapsed_sections": [],
      "authorship_tag": "ABX9TyNdd26eEauo6ZDI2i/Q7kDB",
      "include_colab_link": true
    },
    "kernelspec": {
      "name": "python3",
      "display_name": "Python 3"
    },
    "language_info": {
      "name": "python"
    }
  },
  "cells": [
    {
      "cell_type": "markdown",
      "metadata": {
        "id": "view-in-github",
        "colab_type": "text"
      },
      "source": [
        "<a href=\"https://colab.research.google.com/github/ThuanPhong0126/Machine-Learning-from-scratch/blob/main/Simple_Neural_Network.ipynb\" target=\"_parent\"><img src=\"https://colab.research.google.com/assets/colab-badge.svg\" alt=\"Open In Colab\"/></a>"
      ]
    },
    {
      "cell_type": "markdown",
      "metadata": {
        "id": "hVixRW5JJUhU"
      },
      "source": [
        "Link download dataset: [link](https://archive.ics.uci.edu/ml/datasets/Statlog+%28Heart%29)"
      ]
    },
    {
      "cell_type": "markdown",
      "metadata": {
        "id": "5kphq4aJKpzJ"
      },
      "source": [
        "## Load and check dataset"
      ]
    },
    {
      "cell_type": "code",
      "metadata": {
        "colab": {
          "base_uri": "https://localhost:8080/",
          "height": 295
        },
        "id": "gy46de_BID3x",
        "outputId": "ad8ce090-de03-4e4d-bbc3-7931cfb4fe04"
      },
      "source": [
        "import pandas as pd\n",
        "\n",
        "headers = [\n",
        "           'age', 'sex','chest_pain','resting_blood_pressure',  \n",
        "        'serum_cholestoral', 'fasting_blood_sugar', 'resting_ecg_results',\n",
        "        'max_heart_rate_achieved', 'exercise_induced_angina', 'oldpeak',\"slope of the peak\",\n",
        "        'num_of_major_vessels','thal', 'heart_disease'\n",
        "]\n",
        "\n",
        "heart_df = pd.read_csv('heart.dat', sep=' ', names=headers)\n",
        "\n",
        "print(heart_df.shape)\n",
        "heart_df.head()"
      ],
      "execution_count": 2,
      "outputs": [
        {
          "output_type": "stream",
          "text": [
            "(270, 14)\n"
          ],
          "name": "stdout"
        },
        {
          "output_type": "execute_result",
          "data": {
            "text/html": [
              "<div>\n",
              "<style scoped>\n",
              "    .dataframe tbody tr th:only-of-type {\n",
              "        vertical-align: middle;\n",
              "    }\n",
              "\n",
              "    .dataframe tbody tr th {\n",
              "        vertical-align: top;\n",
              "    }\n",
              "\n",
              "    .dataframe thead th {\n",
              "        text-align: right;\n",
              "    }\n",
              "</style>\n",
              "<table border=\"1\" class=\"dataframe\">\n",
              "  <thead>\n",
              "    <tr style=\"text-align: right;\">\n",
              "      <th></th>\n",
              "      <th>age</th>\n",
              "      <th>sex</th>\n",
              "      <th>chest_pain</th>\n",
              "      <th>resting_blood_pressure</th>\n",
              "      <th>serum_cholestoral</th>\n",
              "      <th>fasting_blood_sugar</th>\n",
              "      <th>resting_ecg_results</th>\n",
              "      <th>max_heart_rate_achieved</th>\n",
              "      <th>exercise_induced_angina</th>\n",
              "      <th>oldpeak</th>\n",
              "      <th>slope of the peak</th>\n",
              "      <th>num_of_major_vessels</th>\n",
              "      <th>thal</th>\n",
              "      <th>heart_disease</th>\n",
              "    </tr>\n",
              "  </thead>\n",
              "  <tbody>\n",
              "    <tr>\n",
              "      <th>0</th>\n",
              "      <td>70.0</td>\n",
              "      <td>1.0</td>\n",
              "      <td>4.0</td>\n",
              "      <td>130.0</td>\n",
              "      <td>322.0</td>\n",
              "      <td>0.0</td>\n",
              "      <td>2.0</td>\n",
              "      <td>109.0</td>\n",
              "      <td>0.0</td>\n",
              "      <td>2.4</td>\n",
              "      <td>2.0</td>\n",
              "      <td>3.0</td>\n",
              "      <td>3.0</td>\n",
              "      <td>2</td>\n",
              "    </tr>\n",
              "    <tr>\n",
              "      <th>1</th>\n",
              "      <td>67.0</td>\n",
              "      <td>0.0</td>\n",
              "      <td>3.0</td>\n",
              "      <td>115.0</td>\n",
              "      <td>564.0</td>\n",
              "      <td>0.0</td>\n",
              "      <td>2.0</td>\n",
              "      <td>160.0</td>\n",
              "      <td>0.0</td>\n",
              "      <td>1.6</td>\n",
              "      <td>2.0</td>\n",
              "      <td>0.0</td>\n",
              "      <td>7.0</td>\n",
              "      <td>1</td>\n",
              "    </tr>\n",
              "    <tr>\n",
              "      <th>2</th>\n",
              "      <td>57.0</td>\n",
              "      <td>1.0</td>\n",
              "      <td>2.0</td>\n",
              "      <td>124.0</td>\n",
              "      <td>261.0</td>\n",
              "      <td>0.0</td>\n",
              "      <td>0.0</td>\n",
              "      <td>141.0</td>\n",
              "      <td>0.0</td>\n",
              "      <td>0.3</td>\n",
              "      <td>1.0</td>\n",
              "      <td>0.0</td>\n",
              "      <td>7.0</td>\n",
              "      <td>2</td>\n",
              "    </tr>\n",
              "    <tr>\n",
              "      <th>3</th>\n",
              "      <td>64.0</td>\n",
              "      <td>1.0</td>\n",
              "      <td>4.0</td>\n",
              "      <td>128.0</td>\n",
              "      <td>263.0</td>\n",
              "      <td>0.0</td>\n",
              "      <td>0.0</td>\n",
              "      <td>105.0</td>\n",
              "      <td>1.0</td>\n",
              "      <td>0.2</td>\n",
              "      <td>2.0</td>\n",
              "      <td>1.0</td>\n",
              "      <td>7.0</td>\n",
              "      <td>1</td>\n",
              "    </tr>\n",
              "    <tr>\n",
              "      <th>4</th>\n",
              "      <td>74.0</td>\n",
              "      <td>0.0</td>\n",
              "      <td>2.0</td>\n",
              "      <td>120.0</td>\n",
              "      <td>269.0</td>\n",
              "      <td>0.0</td>\n",
              "      <td>2.0</td>\n",
              "      <td>121.0</td>\n",
              "      <td>1.0</td>\n",
              "      <td>0.2</td>\n",
              "      <td>1.0</td>\n",
              "      <td>1.0</td>\n",
              "      <td>3.0</td>\n",
              "      <td>1</td>\n",
              "    </tr>\n",
              "  </tbody>\n",
              "</table>\n",
              "</div>"
            ],
            "text/plain": [
              "    age  sex  chest_pain  ...  num_of_major_vessels  thal  heart_disease\n",
              "0  70.0  1.0         4.0  ...                   3.0   3.0              2\n",
              "1  67.0  0.0         3.0  ...                   0.0   7.0              1\n",
              "2  57.0  1.0         2.0  ...                   0.0   7.0              2\n",
              "3  64.0  1.0         4.0  ...                   1.0   7.0              1\n",
              "4  74.0  0.0         2.0  ...                   1.0   3.0              1\n",
              "\n",
              "[5 rows x 14 columns]"
            ]
          },
          "metadata": {},
          "execution_count": 2
        }
      ]
    },
    {
      "cell_type": "code",
      "metadata": {
        "colab": {
          "base_uri": "https://localhost:8080/"
        },
        "id": "0kzojJZdKR6U",
        "outputId": "0e219334-f2a6-4c67-97e9-52eb8d2bf77a"
      },
      "source": [
        "heart_df.isna().sum()"
      ],
      "execution_count": 3,
      "outputs": [
        {
          "output_type": "execute_result",
          "data": {
            "text/plain": [
              "age                        0\n",
              "sex                        0\n",
              "chest_pain                 0\n",
              "resting_blood_pressure     0\n",
              "serum_cholestoral          0\n",
              "fasting_blood_sugar        0\n",
              "resting_ecg_results        0\n",
              "max_heart_rate_achieved    0\n",
              "exercise_induced_angina    0\n",
              "oldpeak                    0\n",
              "slope of the peak          0\n",
              "num_of_major_vessels       0\n",
              "thal                       0\n",
              "heart_disease              0\n",
              "dtype: int64"
            ]
          },
          "metadata": {},
          "execution_count": 3
        }
      ]
    },
    {
      "cell_type": "code",
      "metadata": {
        "colab": {
          "base_uri": "https://localhost:8080/"
        },
        "id": "rVZO6v4pKhyL",
        "outputId": "4c067d30-59e3-4137-aae6-7e8d4faa2e7f"
      },
      "source": [
        "heart_df.dtypes"
      ],
      "execution_count": 4,
      "outputs": [
        {
          "output_type": "execute_result",
          "data": {
            "text/plain": [
              "age                        float64\n",
              "sex                        float64\n",
              "chest_pain                 float64\n",
              "resting_blood_pressure     float64\n",
              "serum_cholestoral          float64\n",
              "fasting_blood_sugar        float64\n",
              "resting_ecg_results        float64\n",
              "max_heart_rate_achieved    float64\n",
              "exercise_induced_angina    float64\n",
              "oldpeak                    float64\n",
              "slope of the peak          float64\n",
              "num_of_major_vessels       float64\n",
              "thal                       float64\n",
              "heart_disease                int64\n",
              "dtype: object"
            ]
          },
          "metadata": {},
          "execution_count": 4
        }
      ]
    },
    {
      "cell_type": "markdown",
      "metadata": {
        "id": "7LkfgdGjKsz_"
      },
      "source": [
        "## Split and standardize dataset"
      ]
    },
    {
      "cell_type": "code",
      "metadata": {
        "id": "fE5egEB1Kl4l"
      },
      "source": [
        "import numpy as np\n",
        "import warnings\n",
        "warnings.filterwarnings(\"ignore\") #suppress warnings\n",
        "import matplotlib.pyplot as plt\n",
        "from sklearn.model_selection import train_test_split\n",
        "from sklearn.preprocessing import StandardScaler"
      ],
      "execution_count": 5,
      "outputs": []
    },
    {
      "cell_type": "code",
      "metadata": {
        "id": "_IJt_uOIK54q"
      },
      "source": [
        "X = heart_df.drop(columns=['heart_disease'])\n",
        "\n",
        "heart_df['heart_disease'] = heart_df['heart_disease'].replace(1, 0) #have heart disease\n",
        "heart_df['heart_disease'] = heart_df['heart_disease'].replace(2, 1) #not have heart disease\n",
        "\n",
        "y_label = heart_df['heart_disease'].values.reshape(X.shape[0], 1)"
      ],
      "execution_count": 6,
      "outputs": []
    },
    {
      "cell_type": "code",
      "metadata": {
        "id": "VV4H4K22LP5R"
      },
      "source": [
        "X_train, X_test, y_train, y_test = train_test_split(\n",
        "    X, \n",
        "    y_label,\n",
        "    test_size = 0.2, \n",
        "    random_state = 2021 \n",
        ")"
      ],
      "execution_count": 7,
      "outputs": []
    },
    {
      "cell_type": "code",
      "metadata": {
        "colab": {
          "base_uri": "https://localhost:8080/"
        },
        "id": "1KiLtIjgLgra",
        "outputId": "405f1334-a223-4e9f-e0f7-09495294e68a"
      },
      "source": [
        "sc = StandardScaler()\n",
        "sc.fit(X_train)\n",
        "\n",
        "X_train = sc.transform(X_train)\n",
        "X_test = sc.transform(X_test)\n",
        "\n",
        "print(f\"Shape of train set is {X_train.shape}\")\n",
        "print(f\"Shape of test set is {X_test.shape}\")\n",
        "print(f\"Shape of train label is {y_train.shape}\")\n",
        "print(f\"Shape of test labels is {y_test.shape}\")"
      ],
      "execution_count": 8,
      "outputs": [
        {
          "output_type": "stream",
          "text": [
            "Shape of train set is (216, 13)\n",
            "Shape of test set is (54, 13)\n",
            "Shape of train label is (216, 1)\n",
            "Shape of test labels is (54, 1)\n"
          ],
          "name": "stdout"
        }
      ]
    },
    {
      "cell_type": "markdown",
      "metadata": {
        "id": "3G59pmb4QMZo"
      },
      "source": [
        "Loss function\n",
        "![loss function](https://miro.medium.com/max/700/1*TkSDhSmzdiVWzaCfCGYgrA.png)"
      ]
    },
    {
      "cell_type": "code",
      "metadata": {
        "id": "26EKZs6WL2la"
      },
      "source": [
        "class SimpleNeuralNetwork():\n",
        "\n",
        "    def __init__(self, layers=[13,8,1], learning_rate=0.001, iterations=100):\n",
        "        self.params = {}\n",
        "        self.learning_rate = learning_rate\n",
        "        self.iterations = iterations\n",
        "        self.loss = []\n",
        "        self.sample_size = None\n",
        "        self.layers = layers\n",
        "        self.X = None\n",
        "        self.y = None\n",
        "                \n",
        "    def init_weights(self):\n",
        "        '''\n",
        "        Initialize the weights from a random normal distribution\n",
        "        '''\n",
        "        np.random.seed(1) # Seed the random number generator\n",
        "        self.params[\"W1\"] = np.random.randn(self.layers[0], self.layers[1]) \n",
        "        self.params['b1']  =np.random.randn(self.layers[1],)\n",
        "        self.params['W2'] = np.random.randn(self.layers[1],self.layers[2]) \n",
        "        self.params['b2'] = np.random.randn(self.layers[2],)\n",
        "    \n",
        "    def relu(self,Z):\n",
        "        '''\n",
        "        The ReLu activation function is to performs a threshold\n",
        "        operation to each input element where values less \n",
        "        than zero are set to zero.\n",
        "        '''\n",
        "        return np.maximum(0,Z)\n",
        "\n",
        "    def dRelu(self, x):\n",
        "        x[x<=0] = 0\n",
        "        x[x>0] = 1\n",
        "        return x\n",
        "\n",
        "    def eta(self, x):\n",
        "      ETA = 0.0000000001\n",
        "      return np.maximum(x, ETA)\n",
        "\n",
        "\n",
        "    def sigmoid(self,Z):\n",
        "        '''\n",
        "        The sigmoid function takes in real numbers in any range and \n",
        "        squashes it to a real-valued output between 0 and 1.\n",
        "        '''\n",
        "        return 1/(1+np.exp(-Z))\n",
        "\n",
        "    def entropy_loss(self,y, yhat):\n",
        "        nsample = len(y)\n",
        "        yhat_inv = 1.0 - yhat\n",
        "        y_inv = 1.0 - y\n",
        "        yhat = self.eta(yhat) ## clips value to avoid NaNs in log\n",
        "        yhat_inv = self.eta(yhat_inv) \n",
        "        loss = -1/nsample * (np.sum(np.multiply(np.log(yhat), y) + np.multiply((y_inv), np.log(yhat_inv))))\n",
        "        return loss\n",
        "\n",
        "    def forward_propagation(self):\n",
        "        '''\n",
        "        Performs the forward propagation\n",
        "        '''\n",
        "        \n",
        "        Z1 = self.X.dot(self.params['W1']) + self.params['b1']\n",
        "        A1 = self.relu(Z1)\n",
        "        Z2 = A1.dot(self.params['W2']) + self.params['b2']\n",
        "        yhat = self.sigmoid(Z2)\n",
        "        loss = self.entropy_loss(self.y,yhat)\n",
        "\n",
        "        # save calculated parameters     \n",
        "        self.params['Z1'] = Z1\n",
        "        self.params['Z2'] = Z2\n",
        "        self.params['A1'] = A1\n",
        "\n",
        "        return yhat,loss\n",
        "\n",
        "    def back_propagation(self,yhat):\n",
        "        '''\n",
        "        Computes the derivatives and update weights and bias according.\n",
        "        '''\n",
        "        y_inv = 1 - self.y\n",
        "        yhat_inv = 1 - yhat\n",
        "\n",
        "        dl_wrt_yhat = np.divide(y_inv, self.eta(yhat_inv)) - np.divide(self.y, self.eta(yhat))\n",
        "        dl_wrt_sig = yhat * (yhat_inv)\n",
        "        dl_wrt_z2 = dl_wrt_yhat * dl_wrt_sig\n",
        "\n",
        "        dl_wrt_A1 = dl_wrt_z2.dot(self.params['W2'].T)\n",
        "        dl_wrt_w2 = self.params['A1'].T.dot(dl_wrt_z2)\n",
        "        dl_wrt_b2 = np.sum(dl_wrt_z2, axis=0, keepdims=True)\n",
        "\n",
        "        dl_wrt_z1 = dl_wrt_A1 * self.dRelu(self.params['Z1'])\n",
        "        dl_wrt_w1 = self.X.T.dot(dl_wrt_z1)\n",
        "        dl_wrt_b1 = np.sum(dl_wrt_z1, axis=0, keepdims=True)\n",
        "\n",
        "        #update the weights and bias\n",
        "        self.params['W1'] = self.params['W1'] - self.learning_rate * dl_wrt_w1\n",
        "        self.params['W2'] = self.params['W2'] - self.learning_rate * dl_wrt_w2\n",
        "        self.params['b1'] = self.params['b1'] - self.learning_rate * dl_wrt_b1\n",
        "        self.params['b2'] = self.params['b2'] - self.learning_rate * dl_wrt_b2\n",
        "\n",
        "    def fit(self, X, y):\n",
        "        '''\n",
        "        Trains the neural network using the specified data and labels\n",
        "        '''\n",
        "        self.X = X\n",
        "        self.y = y\n",
        "        self.init_weights() #initialize weights and bias\n",
        "\n",
        "\n",
        "        for i in range(self.iterations):\n",
        "            yhat, loss = self.forward_propagation()\n",
        "            self.back_propagation(yhat)\n",
        "            self.loss.append(loss)\n",
        "\n",
        "    def predict(self, X):\n",
        "        '''\n",
        "        Predicts on a test data\n",
        "        '''\n",
        "        Z1 = X.dot(self.params['W1']) + self.params['b1']\n",
        "        A1 = self.relu(Z1)\n",
        "        Z2 = A1.dot(self.params['W2']) + self.params['b2']\n",
        "        pred = self.sigmoid(Z2)\n",
        "        return np.round(pred) \n",
        "\n",
        "    def acc(self, y, yhat):\n",
        "        '''\n",
        "        Calculates the accutacy between the predicted valuea and the truth labels\n",
        "        '''\n",
        "        acc = int(sum(y == yhat) / len(y) * 100.0)\n",
        "        return acc\n",
        "\n",
        "\n",
        "    def plot_loss(self):\n",
        "        '''\n",
        "        Plots the loss curve\n",
        "        '''\n",
        "        plt.plot(self.loss)\n",
        "        plt.xlabel(\"Iteration\")\n",
        "        plt.ylabel(\"logloss\")\n",
        "        plt.title(\"Loss curve for training\")\n",
        "        plt.show()  "
      ],
      "execution_count": 18,
      "outputs": []
    },
    {
      "cell_type": "code",
      "metadata": {
        "id": "tJdwAmW_OLur"
      },
      "source": [
        "nn = SimpleNeuralNetwork()\n",
        "nn.fit(X_train, y_train)"
      ],
      "execution_count": 19,
      "outputs": []
    },
    {
      "cell_type": "code",
      "metadata": {
        "colab": {
          "base_uri": "https://localhost:8080/",
          "height": 295
        },
        "id": "OONz54YYT0fJ",
        "outputId": "e84d109c-9d12-4ea9-8069-8b93994d5f2f"
      },
      "source": [
        "nn.plot_loss()"
      ],
      "execution_count": 20,
      "outputs": [
        {
          "output_type": "display_data",
          "data": {
            "image/png": "[encoded data removed]",
            "text/plain": [
              "<Figure size 432x288 with 1 Axes>"
            ]
          },
          "metadata": {
            "needs_background": "light"
          }
        }
      ]
    },
    {
      "cell_type": "code",
      "metadata": {
        "colab": {
          "base_uri": "https://localhost:8080/"
        },
        "id": "gvWZAG6gU4Pp",
        "outputId": "f2d5bc4b-8a3a-4615-cca7-4fdefb7cf034"
      },
      "source": [
        "train_predictions = nn.predict(X_train)\n",
        "test_predictions = nn.predict(X_test)\n",
        "\n",
        "print(f\"Train accuracy: {nn.acc(y_train, train_predictions)}\")\n",
        "print(f\"Test accuracy: {nn.acc(y_test, test_predictions)}\")"
      ],
      "execution_count": 21,
      "outputs": [
        {
          "output_type": "stream",
          "text": [
            "Train accuracy: 82\n",
            "Test accuracy: 79\n"
          ],
          "name": "stdout"
        }
      ]
    },
    {
      "cell_type": "markdown",
      "metadata": {
        "id": "fzCZwnzUVkLn"
      },
      "source": [
        "The End!!!!!!"
      ]
    }
  ]
}